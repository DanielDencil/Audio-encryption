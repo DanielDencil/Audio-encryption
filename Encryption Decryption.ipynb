{
 "cells": [
  {
   "cell_type": "code",
   "execution_count": 1,
   "metadata": {
    "ExecuteTime": {
     "end_time": "2024-04-02T10:32:23.627227Z",
     "start_time": "2024-04-02T10:32:13.868712Z"
    }
   },
   "outputs": [
    {
     "name": "stdout",
     "output_type": "stream",
     "text": [
      "Requirement already satisfied: cryptography in c:\\users\\loq\\anaconda3\\lib\\site-packages (42.0.2)\n",
      "Requirement already satisfied: cffi>=1.12 in c:\\users\\loq\\anaconda3\\lib\\site-packages (from cryptography) (1.16.0)\n",
      "Requirement already satisfied: pycparser in c:\\users\\loq\\anaconda3\\lib\\site-packages (from cffi>=1.12->cryptography) (2.21)\n"
     ]
    }
   ],
   "source": [
    "!pip install cryptography"
   ]
  },
  {
   "cell_type": "code",
   "execution_count": 2,
   "metadata": {
    "ExecuteTime": {
     "end_time": "2024-04-02T10:32:23.677361Z",
     "start_time": "2024-04-02T10:32:23.631234Z"
    }
   },
   "outputs": [],
   "source": [
    "from cryptography.fernet import Fernet\n"
   ]
  },
  {
   "cell_type": "code",
   "execution_count": 3,
   "metadata": {
    "ExecuteTime": {
     "end_time": "2024-04-02T10:32:23.685842Z",
     "start_time": "2024-04-02T10:32:23.678368Z"
    }
   },
   "outputs": [
    {
     "data": {
      "text/plain": "b'XZqNsrTkdTPk5JBfVrdjtcdUZAqopZFSZJLe7vsOWIE='"
     },
     "execution_count": 3,
     "metadata": {},
     "output_type": "execute_result"
    }
   ],
   "source": [
    "key = Fernet.generate_key()\n",
    "key"
   ]
  },
  {
   "cell_type": "code",
   "execution_count": 4,
   "metadata": {
    "ExecuteTime": {
     "end_time": "2024-04-02T10:32:23.691130Z",
     "start_time": "2024-04-02T10:32:23.687849Z"
    }
   },
   "outputs": [],
   "source": [
    "#Encryption\n",
    "\n",
    "fernet = Fernet(key)"
   ]
  },
  {
   "cell_type": "code",
   "execution_count": 5,
   "metadata": {
    "ExecuteTime": {
     "end_time": "2024-04-02T10:32:23.696838Z",
     "start_time": "2024-04-02T10:32:23.693139Z"
    }
   },
   "outputs": [],
   "source": [
    "#Writing\n",
    "with open('key.key', 'wb') as filekey:\n",
    "    filekey.write(key)"
   ]
  },
  {
   "cell_type": "code",
   "execution_count": 6,
   "metadata": {
    "ExecuteTime": {
     "end_time": "2024-04-02T10:32:23.707055Z",
     "start_time": "2024-04-02T10:32:23.697843Z"
    }
   },
   "outputs": [],
   "source": [
    "#reading\n",
    "with open('key.key', 'rb') as filekey:\n",
    "    key = filekey.read()"
   ]
  },
  {
   "cell_type": "code",
   "execution_count": 7,
   "metadata": {
    "ExecuteTime": {
     "end_time": "2024-04-02T10:32:23.711998Z",
     "start_time": "2024-04-02T10:32:23.708076Z"
    }
   },
   "outputs": [],
   "source": [
    "#read the file\n",
    "with open('ThaniOruvanBGM.wav', 'rb') as file:\n",
    "    orignal_file = file.read()"
   ]
  },
  {
   "cell_type": "code",
   "execution_count": 8,
   "metadata": {
    "ExecuteTime": {
     "end_time": "2024-04-02T10:32:23.806982Z",
     "start_time": "2024-04-02T10:32:23.713004Z"
    }
   },
   "outputs": [],
   "source": [
    "encrypted = fernet.encrypt(orignal_file)"
   ]
  },
  {
   "cell_type": "code",
   "execution_count": 9,
   "metadata": {
    "ExecuteTime": {
     "end_time": "2024-04-02T10:32:23.812493Z",
     "start_time": "2024-04-02T10:32:23.807990Z"
    }
   },
   "outputs": [],
   "source": [
    "with open('encrypt ThaniOruvanBGM.wav', 'wb') as file:\n",
    "    file.write(encrypted)"
   ]
  },
  {
   "cell_type": "code",
   "execution_count": 10,
   "metadata": {
    "ExecuteTime": {
     "end_time": "2024-04-02T10:32:23.817500Z",
     "start_time": "2024-04-02T10:32:23.813503Z"
    }
   },
   "outputs": [],
   "source": [
    "# Decryting the Audio\n",
    "fernet = Fernet(key)"
   ]
  },
  {
   "cell_type": "code",
   "execution_count": 11,
   "metadata": {
    "ExecuteTime": {
     "end_time": "2024-04-02T10:32:23.833262Z",
     "start_time": "2024-04-02T10:32:23.818510Z"
    }
   },
   "outputs": [],
   "source": [
    "with open('encrypt ThaniOruvanBGM.wav', 'rb') as file:\n",
    "    encrypted_file = file.read()"
   ]
  },
  {
   "cell_type": "code",
   "execution_count": 12,
   "metadata": {
    "ExecuteTime": {
     "end_time": "2024-04-02T10:32:23.844262Z",
     "start_time": "2024-04-02T10:32:23.834268Z"
    }
   },
   "outputs": [],
   "source": [
    "decrypted = fernet.decrypt(encrypted_file)"
   ]
  },
  {
   "cell_type": "code",
   "execution_count": 13,
   "metadata": {
    "ExecuteTime": {
     "end_time": "2024-04-02T10:32:23.851357Z",
     "start_time": "2024-04-02T10:32:23.845350Z"
    }
   },
   "outputs": [],
   "source": [
    "with open('decrypt ThaniOruvanBGM.wav', 'wb') as file:\n",
    "    file.write(decrypted)"
   ]
  },
  {
   "cell_type": "code",
   "execution_count": 13,
   "metadata": {
    "ExecuteTime": {
     "end_time": "2024-04-02T10:32:23.855672Z",
     "start_time": "2024-04-02T10:32:23.853374Z"
    }
   },
   "outputs": [],
   "source": []
  },
  {
   "cell_type": "code",
   "outputs": [],
   "source": [],
   "metadata": {
    "collapsed": false,
    "ExecuteTime": {
     "end_time": "2024-04-02T10:32:23.858960Z",
     "start_time": "2024-04-02T10:32:23.856738Z"
    }
   },
   "execution_count": 13
  },
  {
   "cell_type": "code",
   "outputs": [],
   "source": [],
   "metadata": {
    "collapsed": false,
    "ExecuteTime": {
     "end_time": "2024-04-02T10:32:23.862853Z",
     "start_time": "2024-04-02T10:32:23.859967Z"
    }
   },
   "execution_count": 13
  }
 ],
 "metadata": {
  "kernelspec": {
   "display_name": "Python 3",
   "language": "python",
   "name": "python3"
  },
  "language_info": {
   "codemirror_mode": {
    "name": "ipython",
    "version": 3
   },
   "file_extension": ".py",
   "mimetype": "text/x-python",
   "name": "python",
   "nbconvert_exporter": "python",
   "pygments_lexer": "ipython3",
   "version": "3.12.2"
  }
 },
 "nbformat": 4,
 "nbformat_minor": 4
}
